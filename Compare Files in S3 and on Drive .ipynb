{
 "cells": [
  {
   "cell_type": "code",
   "execution_count": 1,
   "metadata": {},
   "outputs": [],
   "source": [
    "import boto3 \n",
    "import batch_functions as bf \n",
    "import configparser \n",
    "import numpy as np "
   ]
  },
  {
   "cell_type": "code",
   "execution_count": 2,
   "metadata": {},
   "outputs": [],
   "source": [
    "KEY            ='G:\\\\' \t\t\t\t# Where the files to upload are stored \n",
    "BUCKET         ='crary'\t\t\t\t# Bucket destination (should not change)\n",
    "RESULTPATH     ='BronxVA'\t\t\t# Destination folder for files in s3 \n",
    "MAX_FILES      = 20000 \t\t\t\t# Max number of files to upload \n",
    "TEST           = False  \t\t\t# Set to false to use/true to test "
   ]
  },
  {
   "cell_type": "code",
   "execution_count": 3,
   "metadata": {},
   "outputs": [],
   "source": [
    "config = configparser.ConfigParser() \n",
    "config.sections() \n",
    "\n",
    "config.read('s3.config')\n",
    "\n",
    "YOUR_ACCESS_KEY=config['CREDENTIALS']['YOUR_ACCESS_KEY'] \n",
    "YOUR_SECRET_KEY=config['CREDENTIALS']['YOUR_SECRET_KEY']"
   ]
  },
  {
   "cell_type": "code",
   "execution_count": 4,
   "metadata": {},
   "outputs": [],
   "source": [
    "# Create a connection to S3 \n",
    "s3 = boto3.client(\n",
    "\t's3', \n",
    "\taws_access_key_id=YOUR_ACCESS_KEY,\n",
    "\taws_secret_access_key=YOUR_SECRET_KEY\n",
    ")\n",
    "\n",
    "# query s3 for files already in RESULTPATH \n",
    "def getFiles(s3Client, bucket=BUCKET, prefix=RESULTPATH): \n",
    "\tkwargs = {'Bucket': bucket, 'Prefix': prefix}\n",
    "\n",
    "\titerate = True\n",
    "\ti = 0 \n",
    "\tfiles = {}\n",
    "\twhile iterate: \n",
    "\t\tresp = s3Client.list_objects_v2(**kwargs)\n",
    "\t\tfor obj in resp['Contents']:\n",
    "\t\t\tfilename = obj['Key']\n",
    "\t\t\tfiles[i] = filename \n",
    "\t\t\ti+=1 \n",
    "\n",
    "\t\ttry: \n",
    "\t\t\tkwargs['ContinuationToken'] = resp['NextContinuationToken']\n",
    "\t\texcept KeyError: \n",
    "\t\t\titerate = False \n",
    "\treturn files \n",
    "\n",
    "def getSaveFileLocation(): return \"bucket=\" + BUCKET + \"_\" + RESULTPATH + \"_contents.csv\""
   ]
  },
  {
   "cell_type": "code",
   "execution_count": 12,
   "metadata": {},
   "outputs": [],
   "source": [
    "filesInS3 = np.array(list(getFiles(s3).values()))\n",
    "filesInS3 = np.array([f.split('BronxVA/')[1].replace('\\\\', '/') for f in filesInS3])\n",
    "filesInS3.sort()"
   ]
  },
  {
   "cell_type": "code",
   "execution_count": 16,
   "metadata": {},
   "outputs": [],
   "source": [
    "filesOnDrive = bf.getAll('G:\\\\')\n",
    "filesOnDrive = [f.split('G:\\\\')[1].replace('\\\\', '/') for f in filesOnDrive]\n",
    "filesOnDrive.sort()"
   ]
  },
  {
   "cell_type": "code",
   "execution_count": 19,
   "metadata": {},
   "outputs": [
    {
     "name": "stdout",
     "output_type": "stream",
     "text": [
      "XE16-010_1_HE_1/Data0014.dat\n",
      "XE16-010_1_HE_1/Data0014.dat\n",
      "True\n"
     ]
    }
   ],
   "source": [
    "print(filesInS3[1500])\n",
    "print(filesOnDrive[1500-1])\n",
    "print(filesInS3[1500] in filesOnDrive)"
   ]
  },
  {
   "cell_type": "code",
   "execution_count": 20,
   "metadata": {},
   "outputs": [
    {
     "name": "stdout",
     "output_type": "stream",
     "text": [
      "16704\n",
      "16703\n"
     ]
    }
   ],
   "source": [
    "print(len(filesInS3))\n",
    "print(len(filesOnDrive))"
   ]
  },
  {
   "cell_type": "code",
   "execution_count": 21,
   "metadata": {},
   "outputs": [
    {
     "name": "stdout",
     "output_type": "stream",
     "text": [
      "['']\n"
     ]
    }
   ],
   "source": [
    "missingfiles = []\n",
    "for fn in filesInS3: \n",
    "    if fn not in filesOnDrive: \n",
    "        missingfiles = np.append(np.array(missingfiles), np.array(fn))\n",
    "        \n",
    "print(missingfiles)"
   ]
  },
  {
   "cell_type": "code",
   "execution_count": 22,
   "metadata": {},
   "outputs": [],
   "source": [
    "unique_elements, counts_elements = np.unique(filesInS3, return_counts=True)"
   ]
  },
  {
   "cell_type": "code",
   "execution_count": 23,
   "metadata": {},
   "outputs": [],
   "source": [
    "for i in range(0, len(unique_elements)): \n",
    "    if counts_elements[i] > 1: print(unique_elements[i], counts_elements[i])"
   ]
  },
  {
   "cell_type": "code",
   "execution_count": null,
   "metadata": {},
   "outputs": [],
   "source": []
  }
 ],
 "metadata": {
  "kernelspec": {
   "display_name": "Python 3",
   "language": "python",
   "name": "python3"
  },
  "language_info": {
   "codemirror_mode": {
    "name": "ipython",
    "version": 3
   },
   "file_extension": ".py",
   "mimetype": "text/x-python",
   "name": "python",
   "nbconvert_exporter": "python",
   "pygments_lexer": "ipython3",
   "version": "3.6.2"
  }
 },
 "nbformat": 4,
 "nbformat_minor": 2
}
